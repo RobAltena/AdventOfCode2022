{
  "nbformat": 4,
  "nbformat_minor": 0,
  "metadata": {
    "colab": {
      "private_outputs": true,
      "provenance": [],
      "authorship_tag": "ABX9TyOMYOOiBId++Fx7g5sYpMJ1",
      "include_colab_link": true
    },
    "kernelspec": {
      "name": "python3",
      "display_name": "Python 3"
    },
    "language_info": {
      "name": "python"
    }
  },
  "cells": [
    {
      "cell_type": "markdown",
      "metadata": {
        "id": "view-in-github",
        "colab_type": "text"
      },
      "source": [
        "<a href=\"https://colab.research.google.com/github/RobAltena/AdventOfCode2022/blob/main/Day11.ipynb\" target=\"_parent\"><img src=\"https://colab.research.google.com/assets/colab-badge.svg\" alt=\"Open In Colab\"/></a>"
      ]
    },
    {
      "cell_type": "code",
      "execution_count": null,
      "metadata": {
        "id": "4L4qoQOqmUQl"
      },
      "outputs": [],
      "source": [
        "import math\n",
        "import requests\n",
        "data = requests.get('https://raw.githubusercontent.com/RobAltena/AdventOfCode2022/main/advent_day11_input.txt').text[:-1]\n"
      ]
    },
    {
      "cell_type": "code",
      "source": [
        "class Monkey:\n",
        "  def __init__(self, initstr):\n",
        "    data = list(line.split(':')[1].strip() for line in initstr)\n",
        "    self.items = list(map(int, initstr[1][len('  Starting items:'):].split(',')))\n",
        "    self.operation = data[2].split('=')[-1]\n",
        "    self.divisor = int(data[3].split()[-1])\n",
        "    self.throw_true = int(data[4].split()[-1])\n",
        "    self.throw_false = int(data[5].split()[-1])\n",
        "    self.inspects = 0\n",
        "\n",
        "  def inspect(self, monkeys):\n",
        "    while (self.items):\n",
        "        self.inspects += 1\n",
        "        item = self.items.pop(0)\n",
        "        #print(\"    Monkey inspects an item with a worry level of \", item)\n",
        "        old = item\n",
        "        new = eval(self.operation)\n",
        "        #print(\"    Worry level: {0} from {1} to {2}\".format(self.operation, old, new))\n",
        "        new //= 3\n",
        "        #print(\"    Worry level is divided by 3 to {0}.\".format(new))\n",
        "        test = (new % self.divisor == 0)\n",
        "        #print(\"    Current worry level is {0} divisible by {1}. .\".format(\"\" if test else \"NOT\", self.divisor))\n",
        "        dest = self.throw_true if test else self.throw_false\n",
        "        #print(\"    Item with worry level {0} is thrown to monkey {1}.\".format(new, dest))\n",
        "        monkeys[dest].items.append(new)\n",
        "\n",
        "  def inspect_part2(self, monkeys, common_divisor):\n",
        "    while (self.items):\n",
        "        self.inspects += 1\n",
        "        item = self.items.pop(0)\n",
        "        old = item\n",
        "        new = eval(self.operation) % common_divisor\n",
        "        test = (new % self.divisor == 0)\n",
        "        dest = self.throw_true if test else self.throw_false\n",
        "        monkeys[dest].items.append(new)\n",
        "\n",
        "  def __repr__(self):\n",
        "    return \"{0}\".format(self.items)\n"
      ],
      "metadata": {
        "id": "B3WjXdtKohsN"
      },
      "execution_count": null,
      "outputs": []
    },
    {
      "cell_type": "code",
      "source": [
        "monkeys_raw = data.split('\\n\\n')\n",
        "monkeys = list(Monkey(raw.split('\\n')) for raw in monkeys_raw)\n",
        "for count in range(20):\n",
        "  for i, m in enumerate(monkeys):\n",
        "    #print(\"Monkey\", i)\n",
        "    m.inspect(monkeys)\n",
        "\n",
        "print(\"Part 1:\", math.prod(sorted( m.inspects for m in monkeys)[-2:]))"
      ],
      "metadata": {
        "id": "xDFSU2GI8WVJ"
      },
      "execution_count": null,
      "outputs": []
    },
    {
      "cell_type": "code",
      "source": [
        "monkeys_raw = data.split('\\n\\n')\n",
        "monkeys = list(Monkey(raw.split('\\n')) for raw in monkeys_raw)\n",
        "\n",
        "common_divisor = math.prod( m.divisor for m in monkeys)\n",
        "for count in range(10000):\n",
        "  for i, m in enumerate(monkeys):\n",
        "    #print(\"Monkey\", i)\n",
        "    m.inspect_part2(monkeys, common_divisor)\n",
        "\n",
        "print(\"Part 2:\", math.prod(sorted( m.inspects for m in monkeys)[-2:]))"
      ],
      "metadata": {
        "id": "0YfLcSMLkIAQ"
      },
      "execution_count": null,
      "outputs": []
    }
  ]
}