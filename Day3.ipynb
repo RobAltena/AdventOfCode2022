{
  "nbformat": 4,
  "nbformat_minor": 0,
  "metadata": {
    "colab": {
      "private_outputs": true,
      "provenance": [],
      "authorship_tag": "ABX9TyM8AYMxSkIujvB/f33K25YP",
      "include_colab_link": true
    },
    "kernelspec": {
      "name": "python3",
      "display_name": "Python 3"
    },
    "language_info": {
      "name": "python"
    }
  },
  "cells": [
    {
      "cell_type": "markdown",
      "metadata": {
        "id": "view-in-github",
        "colab_type": "text"
      },
      "source": [
        "<a href=\"https://colab.research.google.com/github/RobAltena/AdventOfCode2022/blob/main/Day3.ipynb\" target=\"_parent\"><img src=\"https://colab.research.google.com/assets/colab-badge.svg\" alt=\"Open In Colab\"/></a>"
      ]
    },
    {
      "cell_type": "code",
      "execution_count": null,
      "metadata": {
        "id": "6EkCysJHcQms"
      },
      "outputs": [],
      "source": [
        "import requests\n",
        "data = requests.get('https://raw.githubusercontent.com/RobAltena/AdventOfCode2022/main/advent_day3_input.txt').text.split('\\n')[:-1]"
      ]
    },
    {
      "cell_type": "code",
      "source": [
        "def common_item_score(bag):\n",
        "  l = int(len(bag) / 2)\n",
        "  o = set(bag[:l]).intersection(set(bag[l:])).pop()  #common item\n",
        "  return (ord(o) - 96) %58 # a-z 1-26  A-Z 27-52.\n",
        "\n",
        "print(\"Part 1: \", sum((common_item_score(bag) for bag in data)))"
      ],
      "metadata": {
        "id": "aBHQ2vphcXWa"
      },
      "execution_count": null,
      "outputs": []
    },
    {
      "cell_type": "code",
      "source": [
        "def badge_score(group):\n",
        "  o = set.intersection(*(set(x) for x in group)).pop()\n",
        "  return (ord(o) - 96) %58 # a-z 1-26  A-Z 27-52.\n",
        "\n",
        "groups = [data[x:x + 3] for x in range(0, len(data), 3)]\n",
        "print(\"Part 2: \", sum((badge_score(group) for group in groups)))"
      ],
      "metadata": {
        "id": "OVRvb-elm7cG"
      },
      "execution_count": null,
      "outputs": []
    }
  ]
}