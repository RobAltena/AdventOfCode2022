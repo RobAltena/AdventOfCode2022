{
  "nbformat": 4,
  "nbformat_minor": 0,
  "metadata": {
    "colab": {
      "private_outputs": true,
      "provenance": [],
      "authorship_tag": "ABX9TyPCyxLFm17I/4JgrXGW5/sU",
      "include_colab_link": true
    },
    "kernelspec": {
      "name": "python3",
      "display_name": "Python 3"
    },
    "language_info": {
      "name": "python"
    }
  },
  "cells": [
    {
      "cell_type": "markdown",
      "metadata": {
        "id": "view-in-github",
        "colab_type": "text"
      },
      "source": [
        "<a href=\"https://colab.research.google.com/github/RobAltena/AdventOfCode2022/blob/main/Day7.ipynb\" target=\"_parent\"><img src=\"https://colab.research.google.com/assets/colab-badge.svg\" alt=\"Open In Colab\"/></a>"
      ]
    },
    {
      "cell_type": "code",
      "execution_count": null,
      "metadata": {
        "id": "mAhf3kGiBBxK"
      },
      "outputs": [],
      "source": [
        "import requests\n",
        "data = requests.get('https://raw.githubusercontent.com/RobAltena/AdventOfCode2022/main/advent_day7_input.txt').text.split('\\n')[:-1]"
      ]
    },
    {
      "cell_type": "code",
      "source": [
        "directory_sizes={}\n",
        "def update_dir_sizes(dr, sz):\n",
        "  for i, d in enumerate(dr):\n",
        "    full_path = '/'.join(dr[:i+1])\n",
        "    directory_sizes[full_path]  = directory_sizes.get(full_path, 0) + sz\n",
        "\n",
        "current_dir = []\n",
        "for line in data:\n",
        "  arguments = line.split()\n",
        "\n",
        "  if (line[:4] == '$ cd'):\n",
        "    if arguments[-1] == \"..\":\n",
        "      current_dir.pop()\n",
        "    else:\n",
        "      current_dir.append(arguments[-1])\n",
        "\n",
        "  elif (line[:3] == 'dir') | (line[:4] == '$ ls'):\n",
        "    pass\n",
        "\n",
        "  else:\n",
        "    s = int(arguments[0])\n",
        "    update_dir_sizes(current_dir, s)\n",
        "\n",
        "\n",
        "  \n",
        "total_disk_space = 70000000\n",
        "required_space = 30000000\n",
        "used_space = directory_sizes['/']\n",
        "\n",
        "unused_space = total_disk_space - used_space\n",
        "Free_up = required_space - unused_space\n",
        "\n",
        "print('Part 1: ', sum([x for x in directory_sizes.values() if x <= 100000]))\n",
        "print('Part 2: ', sorted([x for x in directory_sizes.values() if x >= Free_up])[0])\n",
        "  "
      ],
      "metadata": {
        "id": "eG4c2dvL_tAj"
      },
      "execution_count": null,
      "outputs": []
    }
  ]
}