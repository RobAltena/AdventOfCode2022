{
  "nbformat": 4,
  "nbformat_minor": 0,
  "metadata": {
    "colab": {
      "private_outputs": true,
      "provenance": [],
      "authorship_tag": "ABX9TyO0r8s9OxAm/U+/1DYXOwdR",
      "include_colab_link": true
    },
    "kernelspec": {
      "name": "python3",
      "display_name": "Python 3"
    },
    "language_info": {
      "name": "python"
    }
  },
  "cells": [
    {
      "cell_type": "markdown",
      "metadata": {
        "id": "view-in-github",
        "colab_type": "text"
      },
      "source": [
        "<a href=\"https://colab.research.google.com/github/RobAltena/AdventOfCode2022/blob/main/Day5.ipynb\" target=\"_parent\"><img src=\"https://colab.research.google.com/assets/colab-badge.svg\" alt=\"Open In Colab\"/></a>"
      ]
    },
    {
      "cell_type": "code",
      "execution_count": null,
      "metadata": {
        "id": "Yn2Ri4jdrXv6"
      },
      "outputs": [],
      "source": [
        "from operator import itemgetter \n",
        "import requests\n",
        "data = requests.get('https://raw.githubusercontent.com/RobAltena/AdventOfCode2022/main/advent_day5_input.txt').text"
      ]
    },
    {
      "cell_type": "code",
      "source": [
        "data_1 = data.split('\\n\\n')\n",
        "stacks = data_1[0].split('\\n')\n",
        "\n",
        "stack_indices = [i for i, c in enumerate(stacks[-1]) if c.isdigit()]\n",
        "s = {}\n",
        "for i, c  in enumerate(stack_indices):\n",
        "  s[i+1] = []\n",
        "\n",
        "for i, v in enumerate(stacks[::-1][1::]):\n",
        "  l = itemgetter(*stack_indices)(v)\n",
        "  for i2, v2 in enumerate(l):\n",
        "    if v2.isalpha():\n",
        "      s[i2+1].append(v2)\n",
        "\n",
        "moves = data_1[1].split('\\n')[:-1]\n",
        "for move in moves:\n",
        "  m = move.split()\n",
        "  n, f, t = int(m[1]), int(m[3]), int(m[5])\n",
        "  s[t].extend(s[f][-n:][::-1])\n",
        "  s[f]= s[f][:-n]\n",
        "\n",
        "print('Part 1: ', ''.join(((v[-1] for v in s.values()))))\n"
      ],
      "metadata": {
        "id": "2zVeEWUrrpiZ"
      },
      "execution_count": null,
      "outputs": []
    },
    {
      "cell_type": "code",
      "source": [
        "# Copy & pasta for a quick answer.\n",
        "\n",
        "data_1 = data.split('\\n\\n')\n",
        "stacks = data_1[0].split('\\n')\n",
        "\n",
        "stack_indices = [i for i, c in enumerate(stacks[-1]) if c.isdigit()]\n",
        "s = {}\n",
        "for i, c  in enumerate(stack_indices):\n",
        "  s[i+1] = []\n",
        "\n",
        "for i, v in enumerate(stacks[::-1][1::]):\n",
        "  l = itemgetter(*stack_indices)(v)\n",
        "  for i2, v2 in enumerate(l):\n",
        "    if v2.isalpha():\n",
        "      s[i2+1].append(v2)\n",
        "\n",
        "moves = data_1[1].split('\\n')[:-1]\n",
        "for move in moves:\n",
        "  m = move.split()\n",
        "  n, f, t = int(m[1]), int(m[3]), int(m[5])\n",
        "  s[t].extend(s[f][-n:])\n",
        "  s[f]= s[f][:-n]\n",
        "\n",
        "print('Part 2: ', ''.join(((v[-1] for v in s.values()))))\n"
      ],
      "metadata": {
        "id": "iyMRM3krL8Ak"
      },
      "execution_count": null,
      "outputs": []
    }
  ]
}