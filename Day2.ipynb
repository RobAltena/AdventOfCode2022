{
  "nbformat": 4,
  "nbformat_minor": 0,
  "metadata": {
    "colab": {
      "private_outputs": true,
      "provenance": [],
      "authorship_tag": "ABX9TyNpUR7MPc2pCrKb5Clgq4Zy",
      "include_colab_link": true
    },
    "kernelspec": {
      "name": "python3",
      "display_name": "Python 3"
    },
    "language_info": {
      "name": "python"
    }
  },
  "cells": [
    {
      "cell_type": "markdown",
      "metadata": {
        "id": "view-in-github",
        "colab_type": "text"
      },
      "source": [
        "<a href=\"https://colab.research.google.com/github/RobAltena/AdventOfCode2022/blob/main/Day2.ipynb\" target=\"_parent\"><img src=\"https://colab.research.google.com/assets/colab-badge.svg\" alt=\"Open In Colab\"/></a>"
      ]
    },
    {
      "cell_type": "code",
      "execution_count": null,
      "metadata": {
        "id": "1IBw1O_EOcRF"
      },
      "outputs": [],
      "source": [
        "import requests\n",
        "data = requests.get('https://raw.githubusercontent.com/RobAltena/AdventOfCode2022/main/advent_day2_input.txt').text.split('\\n')[:-1]"
      ]
    },
    {
      "cell_type": "code",
      "source": [
        "# A for Rock, B for Paper, and C for Scissors\n",
        "# X for Rock, Y for Paper, and Z for Scissors.\n",
        "\n",
        "choice = {'X':1, 'Y':2, 'Z':3}\n",
        "outcomes = {'A X':3, 'A Y':6, 'A Z':0,\n",
        "            'B X':0, 'B Y':3, 'B Z':6,\n",
        "            'C X':6, 'C Y':0, 'C Z':3}\n",
        "\n",
        "print(\"Part 1: \", sum(outcomes[x] + choice[x[-1]] for x in data))"
      ],
      "metadata": {
        "id": "aekbgzilO0tL"
      },
      "execution_count": null,
      "outputs": []
    },
    {
      "cell_type": "code",
      "source": [
        "# X means you need to lose, Y means you need to end the round in a draw, and Z means you need to win.\n",
        "\n",
        "strategy = {'A X':'A Z', 'A Y':'A X', 'A Z':'A Y',\n",
        "            'B X':'B X', 'B Y':'B Y', 'B Z':'B Z',\n",
        "            'C X':'C Y', 'C Y':'C Z', 'C Z':'C X'}\n",
        "\n",
        "print(\"Part 2: \", sum(outcomes[x] + choice[x[-1]] for x in ( strategy[y] for y in data)))"
      ],
      "metadata": {
        "id": "naMbW9OaXQO-"
      },
      "execution_count": null,
      "outputs": []
    }
  ]
}