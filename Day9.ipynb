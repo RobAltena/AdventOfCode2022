{
  "nbformat": 4,
  "nbformat_minor": 0,
  "metadata": {
    "colab": {
      "private_outputs": true,
      "provenance": [],
      "authorship_tag": "ABX9TyManFzMr73Pb1pRCyHXCdhR",
      "include_colab_link": true
    },
    "kernelspec": {
      "name": "python3",
      "display_name": "Python 3"
    },
    "language_info": {
      "name": "python"
    }
  },
  "cells": [
    {
      "cell_type": "markdown",
      "metadata": {
        "id": "view-in-github",
        "colab_type": "text"
      },
      "source": [
        "<a href=\"https://colab.research.google.com/github/RobAltena/AdventOfCode2022/blob/main/Day9.ipynb\" target=\"_parent\"><img src=\"https://colab.research.google.com/assets/colab-badge.svg\" alt=\"Open In Colab\"/></a>"
      ]
    },
    {
      "cell_type": "code",
      "execution_count": null,
      "metadata": {
        "id": "yyySTUXGRy46"
      },
      "outputs": [],
      "source": [
        "import numpy as np\n",
        "import requests\n",
        "\n",
        "data = requests.get('https://raw.githubusercontent.com/RobAltena/AdventOfCode2022/main/advent_day9_input.txt').text.split('\\n')[:-1]"
      ]
    },
    {
      "cell_type": "code",
      "source": [
        "moves_dir = {'R': np.array((1,0)), 'L':np.array((-1,0)), 'U':np.array((0,1)), 'D':np.array((0,-1)) }\n",
        "\n",
        "def moves_from_data(data):\n",
        "  moves = []\n",
        "  for line in data:\n",
        "    direction, no_moves = line.split()\n",
        "    moves.extend(moves_dir[direction] for x in range(int(no_moves)))\n",
        "\n",
        "  return np.vstack(moves)\n",
        "\n",
        "def fs(pos): #Allows me to make sets of points.\n",
        "  return f'({pos[0]}, {pos[1]})'\n",
        "\n",
        "def get_tail_positions(head_positions): \n",
        "  tail = np.array((0,0))\n",
        "  tail_positions = [tail]\n",
        "  for head in head_positions:\n",
        "    delta = head-tail\n",
        "    if abs(delta[1]) > 1 or abs(delta[0]) > 1:\n",
        "      if abs(delta[0]) > 1:\n",
        "        delta[0] = abs(delta[0]) / delta[0]\n",
        "      if abs(delta[1]) > 1:\n",
        "        delta[1] = abs(delta[1]) / delta[1]\n",
        "      tail = tail + delta\n",
        "      tail_positions.append(tail)\n",
        "  return tail_positions\n",
        "  "
      ],
      "metadata": {
        "id": "hOPAH9AGTDyG"
      },
      "execution_count": null,
      "outputs": []
    },
    {
      "cell_type": "code",
      "source": [
        "head_positions = moves_from_data(data).cumsum(axis=0)\n",
        "print('Part 1: ', len(set(list( fs(x) for x in get_tail_positions(head_positions)))))"
      ],
      "metadata": {
        "id": "DQqihp8ngWyZ"
      },
      "execution_count": null,
      "outputs": []
    },
    {
      "cell_type": "code",
      "source": [
        "head_positions = moves_from_data(data).cumsum(axis=0)\n",
        "for i in range(9):\n",
        "  head_positions = get_tail_positions(head_positions)\n",
        "\n",
        "print('Part 2: ', len(set(list( fs(x) for x in head_positions))))\n"
      ],
      "metadata": {
        "id": "dI7ViI7Cg065"
      },
      "execution_count": null,
      "outputs": []
    }
  ]
}