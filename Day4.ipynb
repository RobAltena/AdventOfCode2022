{
  "nbformat": 4,
  "nbformat_minor": 0,
  "metadata": {
    "colab": {
      "private_outputs": true,
      "provenance": [],
      "authorship_tag": "ABX9TyMAorip/GAAAtqqAYxcQElY",
      "include_colab_link": true
    },
    "kernelspec": {
      "name": "python3",
      "display_name": "Python 3"
    },
    "language_info": {
      "name": "python"
    }
  },
  "cells": [
    {
      "cell_type": "markdown",
      "metadata": {
        "id": "view-in-github",
        "colab_type": "text"
      },
      "source": [
        "<a href=\"https://colab.research.google.com/github/RobAltena/AdventOfCode2022/blob/main/Day4.ipynb\" target=\"_parent\"><img src=\"https://colab.research.google.com/assets/colab-badge.svg\" alt=\"Open In Colab\"/></a>"
      ]
    },
    {
      "cell_type": "code",
      "execution_count": null,
      "metadata": {
        "id": "6a2opJGSnv33"
      },
      "outputs": [],
      "source": [
        "import requests\n",
        "from operator import itemgetter\n",
        "data = requests.get('https://raw.githubusercontent.com/RobAltena/AdventOfCode2022/main/advent_day4_input.txt').text.split('\\n')[:-1]"
      ]
    },
    {
      "cell_type": "code",
      "source": [
        "def rg(x,y):\n",
        "  return (x[0] >= y[0]) & (x[1] <= y[1])\n",
        "\n",
        "def fn(x):\n",
        "  x, y = itemgetter(0, 1)(list(list(map(int, (r.split('-')))) for r in x.split(',')))\n",
        "  return rg(x,y) or rg(y,x)\n",
        "\n",
        "print(\"part 1: \", sum( map(fn, data)))"
      ],
      "metadata": {
        "id": "cZY9yMcxtbYP"
      },
      "execution_count": null,
      "outputs": []
    },
    {
      "cell_type": "code",
      "source": [
        "def ov(x,y):\n",
        "  return not((x[1] < y[0]) | (x[0] > y[1]))\n",
        "\n",
        "def fn2(x):\n",
        "  x, y = itemgetter(0, 1)(list(list(map(int, (r.split('-')))) for r in x.split(',')))\n",
        "  return ov(x,y)\n",
        "\n",
        "print(\"part 2: \", sum( map(fn2, data)))"
      ],
      "metadata": {
        "id": "xLCVjRJk3IWp"
      },
      "execution_count": null,
      "outputs": []
    }
  ]
}