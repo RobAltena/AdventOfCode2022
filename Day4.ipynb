{
  "nbformat": 4,
  "nbformat_minor": 0,
  "metadata": {
    "colab": {
      "private_outputs": true,
      "provenance": [],
      "authorship_tag": "ABX9TyN9p+pmFLOAu5ePaelHP2MQ",
      "include_colab_link": true
    },
    "kernelspec": {
      "name": "python3",
      "display_name": "Python 3"
    },
    "language_info": {
      "name": "python"
    }
  },
  "cells": [
    {
      "cell_type": "markdown",
      "metadata": {
        "id": "view-in-github",
        "colab_type": "text"
      },
      "source": [
        "<a href=\"https://colab.research.google.com/github/RobAltena/AdventOfCode2022/blob/main/Day4.ipynb\" target=\"_parent\"><img src=\"https://colab.research.google.com/assets/colab-badge.svg\" alt=\"Open In Colab\"/></a>"
      ]
    },
    {
      "cell_type": "code",
      "execution_count": null,
      "metadata": {
        "id": "6a2opJGSnv33"
      },
      "outputs": [],
      "source": [
        "import requests\n",
        "import re \n",
        "\n",
        "data = requests.get('https://raw.githubusercontent.com/RobAltena/AdventOfCode2022/main/advent_day4_input.txt').text.split('\\n')[:-1]\n",
        "# Get the 4 integers.\n",
        "parsed_data = list(list(map(int, x) )for x in list(re.split(\"[,-]+\", line) for line in data))\n",
        "# Reshape into a nice shape for this puzzle.\n",
        "parsed_data = list([line[:2], line[2:]] for line in parsed_data)"
      ]
    },
    {
      "cell_type": "code",
      "source": [
        "# Full contain of x within y. \n",
        "def contains(x,y):\n",
        "  return (x[0] >= y[0]) & (x[1] <= y[1])\n",
        "\n",
        "# puzzle input to overlap calls.\n",
        "def fn(x):\n",
        "  return contains(x[0],x[1]) or contains(x[1],x[0])\n",
        "\n",
        "print(\"part 1: \", sum( map(fn, parsed_data)))"
      ],
      "metadata": {
        "id": "cZY9yMcxtbYP"
      },
      "execution_count": null,
      "outputs": []
    },
    {
      "cell_type": "code",
      "source": [
        "#Partial overlap of x and y.\n",
        "def ov(x,y):\n",
        "  return not((x[1] < y[0]) | (x[0] > y[1]))\n",
        "\n",
        "#Puzzle part 2 to overlap calls.\n",
        "def fn2(x):\n",
        "  return ov(x[0], x[1])\n",
        "\n",
        "print(\"part 2: \", sum( map(fn2, parsed_data)))"
      ],
      "metadata": {
        "id": "xLCVjRJk3IWp"
      },
      "execution_count": null,
      "outputs": []
    }
  ]
}