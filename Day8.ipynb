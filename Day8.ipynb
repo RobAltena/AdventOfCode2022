{
  "nbformat": 4,
  "nbformat_minor": 0,
  "metadata": {
    "colab": {
      "private_outputs": true,
      "provenance": [],
      "authorship_tag": "ABX9TyNGRYBSnoZVKTZbIud1e9Et",
      "include_colab_link": true
    },
    "kernelspec": {
      "name": "python3",
      "display_name": "Python 3"
    },
    "language_info": {
      "name": "python"
    }
  },
  "cells": [
    {
      "cell_type": "markdown",
      "metadata": {
        "id": "view-in-github",
        "colab_type": "text"
      },
      "source": [
        "<a href=\"https://colab.research.google.com/github/RobAltena/AdventOfCode2022/blob/main/Day8.ipynb\" target=\"_parent\"><img src=\"https://colab.research.google.com/assets/colab-badge.svg\" alt=\"Open In Colab\"/></a>"
      ]
    },
    {
      "cell_type": "code",
      "execution_count": null,
      "metadata": {
        "id": "HIwDA-x1JEm1"
      },
      "outputs": [],
      "source": [
        "import requests\n",
        "import numpy as np\n",
        "\n",
        "data = requests.get('https://raw.githubusercontent.com/RobAltena/AdventOfCode2022/main/advent_day8_input.txt').text.split('\\n')[:-1]"
      ]
    },
    {
      "cell_type": "code",
      "source": [
        "x = np.pad(np.concatenate( list(np.asarray([*x]).reshape((1, -1)) for x in data), axis=0).astype(int), pad_width=1, mode='constant',constant_values=-1)\n",
        "visible = np.full(x.shape, False)\n",
        "for i in range(4):\n",
        "  visible = np.logical_or(visible, (x > np.roll(np.maximum.accumulate(x,axis=1), 1, axis=1)))\n",
        "  x = np.rot90(x)\n",
        "  visible = np.rot90(visible)\n",
        "\n",
        "print('Part 1: ', visible.sum())"
      ],
      "metadata": {
        "id": "W6NteBrEJPy9"
      },
      "execution_count": null,
      "outputs": []
    },
    {
      "cell_type": "code",
      "source": [
        "x = np.concatenate( list(np.asarray([*x]).reshape((1, -1)) for x in data), axis=0).astype(int)\n",
        "scenic_scores = np.zeros(x.shape)\n",
        "for i in range(x.shape[0]):\n",
        "  for j in range(x.shape[1]):\n",
        "    val = x[i,j] \n",
        "    views = [x[i,:][:j][::-1], x[i,:][j+1:], x[:,j][:i][::-1], x[:,j][i+1:]]\n",
        "    scenic_scores[i,j] = np.prod(list(next((index for index, y in enumerate(view) if y >= x[i,j] ), len(view) - 1) + 1 for view in views))\n",
        "\n",
        "print('Part 2: ', scenic_scores.max())"
      ],
      "metadata": {
        "id": "wRCmoO9ZRNm6"
      },
      "execution_count": null,
      "outputs": []
    },
    {
      "cell_type": "code",
      "source": [
        "from matplotlib import pyplot as plt\n",
        "plt.imshow(scenic_scores, cmap=\"hot\")"
      ],
      "metadata": {
        "id": "JmKQog3Nj2oI"
      },
      "execution_count": null,
      "outputs": []
    }
  ]
}