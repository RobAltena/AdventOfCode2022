{
  "nbformat": 4,
  "nbformat_minor": 0,
  "metadata": {
    "colab": {
      "private_outputs": true,
      "provenance": [],
      "authorship_tag": "ABX9TyO13G329E82sv7ezTNLeC9e",
      "include_colab_link": true
    },
    "kernelspec": {
      "name": "python3",
      "display_name": "Python 3"
    },
    "language_info": {
      "name": "python"
    }
  },
  "cells": [
    {
      "cell_type": "markdown",
      "metadata": {
        "id": "view-in-github",
        "colab_type": "text"
      },
      "source": [
        "<a href=\"https://colab.research.google.com/github/RobAltena/AdventOfCode2022/blob/main/Day1.ipynb\" target=\"_parent\"><img src=\"https://colab.research.google.com/assets/colab-badge.svg\" alt=\"Open In Colab\"/></a>"
      ]
    },
    {
      "cell_type": "code",
      "source": [
        "import requests\n",
        "data = requests.get('https://raw.githubusercontent.com/RobAltena/AdventOfCode2022/main/advent_day1_input.txt').text\n",
        "\n",
        "l = sorted(map(lambda x: sum(map(int, x.split())), data.split('\\n\\n'))) #calories per elf.\n",
        "\n",
        "print(l[-1])  #Part 1\n",
        "print(sum(l[-3:]))  #Part 2"
      ],
      "metadata": {
        "id": "9QLGgK56MohZ"
      },
      "execution_count": null,
      "outputs": []
    }
  ]
}