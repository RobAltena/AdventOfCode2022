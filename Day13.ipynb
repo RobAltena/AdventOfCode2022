{
  "nbformat": 4,
  "nbformat_minor": 0,
  "metadata": {
    "colab": {
      "private_outputs": true,
      "provenance": [],
      "authorship_tag": "ABX9TyNHT06pk1qb5P3fKhnosfWP",
      "include_colab_link": true
    },
    "kernelspec": {
      "name": "python3",
      "display_name": "Python 3"
    },
    "language_info": {
      "name": "python"
    }
  },
  "cells": [
    {
      "cell_type": "markdown",
      "metadata": {
        "id": "view-in-github",
        "colab_type": "text"
      },
      "source": [
        "<a href=\"https://colab.research.google.com/github/RobAltena/AdventOfCode2022/blob/main/Day13.ipynb\" target=\"_parent\"><img src=\"https://colab.research.google.com/assets/colab-badge.svg\" alt=\"Open In Colab\"/></a>"
      ]
    },
    {
      "cell_type": "code",
      "execution_count": null,
      "metadata": {
        "id": "ecBINITS7uga"
      },
      "outputs": [],
      "source": [
        "import numpy as np\n",
        "from functools import cmp_to_key\n",
        "import requests\n",
        "data = requests.get('https://raw.githubusercontent.com/RobAltena/AdventOfCode2022/main/advent_day13_input.txt').text[:-1].split('\\n\\n')"
      ]
    },
    {
      "cell_type": "code",
      "source": [
        "def compare(left, right):\n",
        "  \n",
        "  if type(left) == int and type(right) == int:\n",
        "    return np.sign(left - right)\n",
        "  if type(left) == int: return compare([left], right)\n",
        "  if type(right) == int: return compare(left, [right])\n",
        "  # 2 lists.\n",
        "  \n",
        "  while True :\n",
        "    if len(left) == 0 and len(right) == 0: return 0\n",
        "    if len(left) == 0: return -1\n",
        "    if len(right) == 0: return 1\n",
        "    res = compare(left.pop(0), right.pop(0))\n",
        "    if res != 0: return res\n",
        "\n",
        "\n",
        "l = []\n",
        "for i, packet in enumerate(data, 1):\n",
        "  left, right = list(eval(x) for x in packet.split('\\n'))\n",
        "  if compare(left, right) < 0: l.append(i)\n",
        "\n",
        "print('part 1: ', sum(l))"
      ],
      "metadata": {
        "id": "x9alkUy1Lndy"
      },
      "execution_count": null,
      "outputs": []
    },
    {
      "cell_type": "code",
      "source": [
        "# The original compare function mangles the arguments.\n",
        "import copy\n",
        "def safe_compare(left, right):\n",
        "  return compare(copy.deepcopy(left), copy.deepcopy(right))\n",
        "\n",
        "packets = []\n",
        "for packet in data:\n",
        "  left, right = list(eval(x) for x in packet.split('\\n'))\n",
        "  packets.extend([left, right])\n",
        "\n",
        "packets.extend([ [[2]] , [[6]] ] )\n",
        "\n",
        "sorted_packets = sorted(packets, key=cmp_to_key(safe_compare))\n",
        "\n",
        "print('part 2: ',  (sorted_packets.index([[2]]) +1) * (sorted_packets.index([[6]]) +1))"
      ],
      "metadata": {
        "id": "4Xowik8WZ6Cw"
      },
      "execution_count": null,
      "outputs": []
    }
  ]
}