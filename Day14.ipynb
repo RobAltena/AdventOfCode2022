{
  "nbformat": 4,
  "nbformat_minor": 0,
  "metadata": {
    "colab": {
      "private_outputs": true,
      "provenance": [],
      "authorship_tag": "ABX9TyOhHgUy1rvSuWoOaBzcjpyM",
      "include_colab_link": true
    },
    "kernelspec": {
      "name": "python3",
      "display_name": "Python 3"
    },
    "language_info": {
      "name": "python"
    }
  },
  "cells": [
    {
      "cell_type": "markdown",
      "metadata": {
        "id": "view-in-github",
        "colab_type": "text"
      },
      "source": [
        "<a href=\"https://colab.research.google.com/github/RobAltena/AdventOfCode2022/blob/main/Day14.ipynb\" target=\"_parent\"><img src=\"https://colab.research.google.com/assets/colab-badge.svg\" alt=\"Open In Colab\"/></a>"
      ]
    },
    {
      "cell_type": "code",
      "execution_count": null,
      "metadata": {
        "id": "0GD7oOMWF5bb"
      },
      "outputs": [],
      "source": [
        "from matplotlib import pyplot as plt\n",
        "import requests\n",
        "\n",
        "data = requests.get('https://raw.githubusercontent.com/RobAltena/AdventOfCode2022/main/advent_day14_input.txt').text[:-1]"
      ]
    },
    {
      "cell_type": "code",
      "source": [
        "def map_line(line):\n",
        "  return list( list(map(int, x.split(','))) for x in line)\n",
        "\n",
        "def init_cave(data):\n",
        "  data_points = list( x.split(' -> ') for x in data.split('\\n'))\n",
        "  data_list = list( map_line(line) for line in data_points)\n",
        "  cave = set()\n",
        "\n",
        "  for line in data_list:\n",
        "    for i, pt in enumerate(line[:-1]):\n",
        "      pt2 = line[i+1]\n",
        "      x1, x2 = (pt[0], pt2[0]) if pt[0] <=pt2[0] else (pt2[0], pt[0])\n",
        "      y1, y2 = (pt[1], pt2[1]) if pt[1] <=pt2[1] else (pt2[1], pt[1])\n",
        "\n",
        "      for x in range(x1, x2 +1):\n",
        "        for y in range(y1, y2+1):\n",
        "          # print(x,y, (x-minx, y-miny))\n",
        "          cave.add((x,y))\n",
        "  \n",
        "  return cave\n",
        "\n",
        "def get_max_y(cave):\n",
        "  return max(p[1] for p in cave)"
      ],
      "metadata": {
        "id": "t8NaNG9PGT6F"
      },
      "execution_count": null,
      "outputs": []
    },
    {
      "cell_type": "code",
      "source": [
        "cave = init_cave(data)\n",
        "max_y = get_max_y(cave)\n",
        "\n",
        "# plot to check.\n",
        "x, y = [],[]\n",
        "for point in cave:\n",
        "  x.append(point[0])\n",
        "  y.append(point[1])\n",
        "\n",
        "max_y = max(y)\n",
        "\n",
        "fig, ax = plt.subplots()\n",
        "ax.plot( x, y, 'ro')\n",
        "ax.invert_yaxis()"
      ],
      "metadata": {
        "id": "Zw08dDMFMibI"
      },
      "execution_count": null,
      "outputs": []
    },
    {
      "cell_type": "code",
      "source": [
        "def single_move(sand, cave):\n",
        "  for d in [(0,1), (-1,1), (1,1)]:\n",
        "    next = (sand[0]+d[0], sand[1]+d[1])\n",
        "    if next not in cave: return next\n",
        "\n",
        "  return sand \n",
        "\n",
        "def single_block():\n",
        "  sand = (500,0)\n",
        "  while True:\n",
        "    next = single_move(sand, cave)\n",
        "    if next == sand or next[1] > max_y: return next\n",
        "    sand = next"
      ],
      "metadata": {
        "id": "hOEYZNln0dyz"
      },
      "execution_count": null,
      "outputs": []
    },
    {
      "cell_type": "code",
      "source": [
        "counter = 0\n",
        "while True:\n",
        "  block = single_block()\n",
        "  if block[1] > max_y: break\n",
        "  counter += 1\n",
        "  cave.add(block)\n",
        "\n",
        "print('part 1', counter)"
      ],
      "metadata": {
        "id": "_mc4q8xDPO1i"
      },
      "execution_count": null,
      "outputs": []
    },
    {
      "cell_type": "code",
      "source": [
        "cave = init_cave(data)\n",
        "max_y = get_max_y(cave)\n",
        "\n",
        "counter = 0\n",
        "while True:\n",
        "  block = single_block()\n",
        "  counter += 1\n",
        "  if block == (500,0): break\n",
        "  cave.add(block)\n",
        "\n",
        "print('part 2', counter)"
      ],
      "metadata": {
        "id": "3ONIaRH_pmdh"
      },
      "execution_count": null,
      "outputs": []
    }
  ]
}