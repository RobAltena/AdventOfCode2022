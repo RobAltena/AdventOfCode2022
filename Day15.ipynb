{
  "nbformat": 4,
  "nbformat_minor": 0,
  "metadata": {
    "colab": {
      "private_outputs": true,
      "provenance": [],
      "authorship_tag": "ABX9TyMILBMQwPGyO6OQ9Y3nOoyq",
      "include_colab_link": true
    },
    "kernelspec": {
      "name": "python3",
      "display_name": "Python 3"
    },
    "language_info": {
      "name": "python"
    }
  },
  "cells": [
    {
      "cell_type": "markdown",
      "metadata": {
        "id": "view-in-github",
        "colab_type": "text"
      },
      "source": [
        "<a href=\"https://colab.research.google.com/github/RobAltena/AdventOfCode2022/blob/main/Day15.ipynb\" target=\"_parent\"><img src=\"https://colab.research.google.com/assets/colab-badge.svg\" alt=\"Open In Colab\"/></a>"
      ]
    },
    {
      "cell_type": "code",
      "execution_count": null,
      "metadata": {
        "id": "X83DU_dsNZx-"
      },
      "outputs": [],
      "source": [
        "import requests\n",
        "import re\n",
        "import numpy as np\n",
        "\n",
        "data = \"\"\"Sensor at x=2, y=18: closest beacon is at x=-2, y=15\n",
        "Sensor at x=9, y=16: closest beacon is at x=10, y=16\n",
        "Sensor at x=13, y=2: closest beacon is at x=15, y=3\n",
        "Sensor at x=12, y=14: closest beacon is at x=10, y=16\n",
        "Sensor at x=10, y=20: closest beacon is at x=10, y=16\n",
        "Sensor at x=14, y=17: closest beacon is at x=10, y=16\n",
        "Sensor at x=8, y=7: closest beacon is at x=2, y=10\n",
        "Sensor at x=2, y=0: closest beacon is at x=2, y=10\n",
        "Sensor at x=0, y=11: closest beacon is at x=2, y=10\n",
        "Sensor at x=20, y=14: closest beacon is at x=25, y=17\n",
        "Sensor at x=17, y=20: closest beacon is at x=21, y=22\n",
        "Sensor at x=16, y=7: closest beacon is at x=15, y=3\n",
        "Sensor at x=14, y=3: closest beacon is at x=15, y=3\n",
        "Sensor at x=20, y=1: closest beacon is at x=15, y=3\"\"\".split('\\n')\n",
        "\n",
        "data = requests.get('https://raw.githubusercontent.com/RobAltena/AdventOfCode2022/main/advent_day15_input.txt').text[:-1].split('\\n')\n",
        "\n",
        "parsed_data = list(list(map(int, re.findall(r'-?\\d+', line))) for line in data)"
      ]
    },
    {
      "cell_type": "code",
      "source": [
        "x = np.array(parsed_data)\n",
        "distances = np.abs(x[:, 3] - x[:, 1]) + np.abs(x[:, 2] - x[:, 0])"
      ],
      "metadata": {
        "id": "C0bXFJCTNhvo"
      },
      "execution_count": null,
      "outputs": []
    },
    {
      "cell_type": "code",
      "source": [
        "xmin, xmax = x[:,[0,2]].min(), x[:,[0,2]].max()\n",
        "ymin, ymax = x[:,[1,3]].min(), x[:,[1,3]].max()\n",
        "(xmin, xmax), (ymin, ymax)"
      ],
      "metadata": {
        "id": "cuiMMsRpVSf5"
      },
      "execution_count": null,
      "outputs": []
    },
    {
      "cell_type": "code",
      "source": [
        "#y=10\n",
        "y=2000000"
      ],
      "metadata": {
        "id": "wJVqBFsmb_qb"
      },
      "execution_count": null,
      "outputs": []
    },
    {
      "cell_type": "code",
      "source": [
        "ranges =[]\n",
        "for i in range(x.shape[0]):\n",
        "  dy = abs(y-x[i,1])\n",
        "  if not dy > distances[i]:\n",
        "    dx = abs(dy - distances[i])\n",
        "    ranges.append((x[i,0] - dx, x[i,0] + dx))\n",
        "\n",
        "ranges = sorted(ranges)\n",
        "\n",
        "def merge(r1, r2):\n",
        "  if (r1[0] <= r2[0] <= r1[1]) : \n",
        "    return (r1[0], max([r1[1], r2[1]]))\n",
        "\n",
        "merged_ranges = []\n",
        "index = 1\n",
        "r1 = ranges[0]\n",
        "for r2 in ranges[1:]:\n",
        "  m = merge(r1, r2)\n",
        "  if m is None:\n",
        "    print('no merge - solution more complicated.') \n",
        "  else:\n",
        "    r1 = m\n",
        "\n",
        "print('part 1: ', r1[1] - r1[0])\n",
        "# Your puzzle answer was 5256611.\n"
      ],
      "metadata": {
        "id": "k2lZ-cT1cGnk"
      },
      "execution_count": null,
      "outputs": []
    },
    {
      "cell_type": "code",
      "source": [
        "# Elegant solution from the net. Used to study.\n",
        "\n",
        "def md(p, q): return abs(p[0]-q[0])+abs(p[1]-q[1])\n",
        "\n",
        "radius = {(a,b):md((a,b),(c,d)) for (a,b,c,d) in parsed_data}\n",
        "scanners = radius.keys()\n",
        "\n",
        "acoeffs, bcoeffs = set(), set()\n",
        "for ((x,y), r) in radius.items():\n",
        "    acoeffs.add(y-x+r+1)\n",
        "    acoeffs.add(y-x-r-1)\n",
        "    bcoeffs.add(x+y+r+1)\n",
        "    bcoeffs.add(x+y-r-1)\n",
        "\n",
        "bound = 4_000_000\n",
        "for a in acoeffs:\n",
        "    for b in bcoeffs:\n",
        "        p = ((b-a)//2, (a+b)//2)\n",
        "        if all(0<c<bound for c in p):\n",
        "            if all(md(p,t)>radius[t] for t in scanners):\n",
        "                print(4_000_000*p[0]+p[1])"
      ],
      "metadata": {
        "id": "R3b3pFiK6iZt"
      },
      "execution_count": null,
      "outputs": []
    },
    {
      "cell_type": "code",
      "source": [],
      "metadata": {
        "id": "kCt_B9uU8NDh"
      },
      "execution_count": null,
      "outputs": []
    }
  ]
}