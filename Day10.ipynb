{
  "nbformat": 4,
  "nbformat_minor": 0,
  "metadata": {
    "colab": {
      "private_outputs": true,
      "provenance": [],
      "authorship_tag": "ABX9TyMauoejc1iW176DIIiz8kgR",
      "include_colab_link": true
    },
    "kernelspec": {
      "name": "python3",
      "display_name": "Python 3"
    },
    "language_info": {
      "name": "python"
    }
  },
  "cells": [
    {
      "cell_type": "markdown",
      "metadata": {
        "id": "view-in-github",
        "colab_type": "text"
      },
      "source": [
        "<a href=\"https://colab.research.google.com/github/RobAltena/AdventOfCode2022/blob/main/Day10.ipynb\" target=\"_parent\"><img src=\"https://colab.research.google.com/assets/colab-badge.svg\" alt=\"Open In Colab\"/></a>"
      ]
    },
    {
      "cell_type": "code",
      "execution_count": null,
      "metadata": {
        "id": "q8YI0uhed9ak"
      },
      "outputs": [],
      "source": [
        "import requests\n",
        "from operator import itemgetter \n",
        "data = requests.get('https://raw.githubusercontent.com/RobAltena/AdventOfCode2022/main/advent_day10_input.txt').text.split('\\n')[:-1]"
      ]
    },
    {
      "cell_type": "code",
      "source": [
        "def execute(data):\n",
        "  reg_x = 1\n",
        "  cycle = 1\n",
        "  signal_strength = [] \n",
        "  signal_strength.append(cycle * reg_x) # Hack to make the answer easy\n",
        "  x_list = []\n",
        "  \n",
        "  for instruction in data:\n",
        "    ops = instruction.split()\n",
        "\n",
        "    if ops[0] == 'addx':\n",
        "      signal_strength.append(cycle * reg_x) \n",
        "      x_list.append(reg_x)\n",
        "      cycle += 1 \n",
        "      signal_strength.append(cycle * reg_x) \n",
        "      x_list.append(reg_x)\n",
        "      reg_x += int(ops[1])\n",
        "      cycle += 1 \n",
        "\n",
        "    if ops[0] == 'noop':\n",
        "      signal_strength.append(cycle * reg_x) \n",
        "      x_list.append(reg_x)\n",
        "      cycle += 1\n",
        "\n",
        "  return signal_strength, x_list"
      ],
      "metadata": {
        "id": "gLwuOLV_fkM-"
      },
      "execution_count": null,
      "outputs": []
    },
    {
      "cell_type": "code",
      "source": [
        "signal_strength, x_list = execute(data)\n",
        "indices = [20, 60, 100, 140, 180, 220]\n",
        "print(\"Part 1: \", sum(itemgetter(*indices)( signal_strength  )))"
      ],
      "metadata": {
        "id": "4gP7iMuXl6Gd"
      },
      "execution_count": null,
      "outputs": []
    },
    {
      "cell_type": "code",
      "source": [
        "pixels = []\n",
        "for cycle in range(1,241):\n",
        "  x = x_list[cycle-1]\n",
        "  pixel = \"#\" if abs(x - (cycle-1) % 40) <= 1 else \".\"\n",
        "  pixels.append(pixel)"
      ],
      "metadata": {
        "id": "fJsx43DCtHhG"
      },
      "execution_count": null,
      "outputs": []
    },
    {
      "cell_type": "code",
      "source": [
        "# Part 2:\n",
        "list(''.join(pixels[i:i+40]) for i in range(0, 240, 40))"
      ],
      "metadata": {
        "id": "IS_wfVrZv6Zd"
      },
      "execution_count": null,
      "outputs": []
    }
  ]
}