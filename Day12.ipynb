{
  "nbformat": 4,
  "nbformat_minor": 0,
  "metadata": {
    "colab": {
      "private_outputs": true,
      "provenance": [],
      "authorship_tag": "ABX9TyOQtrNpao6Ay3aKKirWwnBD",
      "include_colab_link": true
    },
    "kernelspec": {
      "name": "python3",
      "display_name": "Python 3"
    },
    "language_info": {
      "name": "python"
    }
  },
  "cells": [
    {
      "cell_type": "markdown",
      "metadata": {
        "id": "view-in-github",
        "colab_type": "text"
      },
      "source": [
        "<a href=\"https://colab.research.google.com/github/RobAltena/AdventOfCode2022/blob/main/Day12.ipynb\" target=\"_parent\"><img src=\"https://colab.research.google.com/assets/colab-badge.svg\" alt=\"Open In Colab\"/></a>"
      ]
    },
    {
      "cell_type": "code",
      "execution_count": null,
      "metadata": {
        "id": "ATB-pJvwu8s8"
      },
      "outputs": [],
      "source": [
        "import numpy as np\n",
        "import queue\n",
        "import requests\n",
        "from matplotlib import pyplot as plt\n",
        "\n",
        "# Sample data.\n",
        "data = \"\"\"Sabqponm\n",
        "abcryxxl\n",
        "accszExk\n",
        "acctuvwj\n",
        "abdefghi\"\"\".split('\\n')\n",
        "\n",
        "# The real puzzle.\n",
        "data = requests.get('https://raw.githubusercontent.com/RobAltena/AdventOfCode2022/main/advent_day12_input.txt').text.split('\\n')[:-1]"
      ]
    },
    {
      "cell_type": "code",
      "source": [
        "grid = np.vstack(list((np.fromiter(line, dtype='c') for line in data)))\n",
        "plt.imshow(grid.view(np.uint8), cmap=\"hot\")"
      ],
      "metadata": {
        "id": "dLEGyaWQvEJw"
      },
      "execution_count": null,
      "outputs": []
    },
    {
      "cell_type": "code",
      "source": [
        "border_map = np.pad(grid.view(np.int8), 1, constant_values=-1)\n",
        "start = tuple(zip(*np.where(border_map == ord('S'))))[0]\n",
        "end = tuple(zip(*np.where(border_map == ord('E'))))[0]\n",
        "\n",
        "border_map[start] = ord('a')\n",
        "border_map[end] = ord('z')\n",
        "\n",
        "start, end"
      ],
      "metadata": {
        "id": "99gadaYK5gtX"
      },
      "execution_count": null,
      "outputs": []
    },
    {
      "cell_type": "code",
      "source": [
        "directions = [(-1,0), (1,0), (0,-1), (0,1)]\n",
        "\n",
        "def heuristic(a, b):\n",
        "    return abs(a[0] - b[0]) + abs(a[1] - b[1])\n",
        "\n",
        "def a_star_search(start, goal):\n",
        "    frontier = queue.PriorityQueue()\n",
        "    frontier.put(start, 0)\n",
        "    came_from = {}\n",
        "    cost_so_far = {}\n",
        "    came_from[start] = None\n",
        "    cost_so_far[start] = 0\n",
        "    \n",
        "    while not frontier.empty():\n",
        "        current = frontier.get()\n",
        "        \n",
        "        # Early stopping gets the wrong answer in this one.\n",
        "        #if current == goal:\n",
        "            #print('goal found - ', cost_so_far[next])\n",
        "            #break\n",
        "        \n",
        "        for d in directions:\n",
        "            next = (current[0]+d[0], current[1]+d[1])\n",
        "            # Stay on the map and do not climb more than one level.\n",
        "            if (border_map[next] >= 0) and (border_map[next] - border_map[current] <2) :\n",
        "              new_cost = cost_so_far[current] + 1\n",
        "              if next not in cost_so_far or new_cost < cost_so_far[next]:\n",
        "                  cost_so_far[next] = new_cost\n",
        "                  priority = new_cost + heuristic(next, goal)\n",
        "                  frontier.put(next, priority)\n",
        "                  came_from[next] = current\n",
        "    \n",
        "    return came_from, cost_so_far"
      ],
      "metadata": {
        "id": "hBeU0izZ7Vt0"
      },
      "execution_count": null,
      "outputs": []
    },
    {
      "cell_type": "code",
      "source": [
        "came_from, cost_so_far = a_star_search(start, end)\n",
        "print('part 1:', cost_so_far[end])"
      ],
      "metadata": {
        "id": "nL5Yj2YyAufr"
      },
      "execution_count": null,
      "outputs": []
    },
    {
      "cell_type": "code",
      "source": [
        "# Pretty plot of the route.\n",
        "x=end\n",
        "route = []\n",
        "while(x):\n",
        "  route.append(x)\n",
        "  x = came_from[x]\n",
        "\n",
        "fig, ax = plt.subplots(figsize=(20,20))\n",
        "\n",
        "ax.imshow(border_map[1:-1,1:-1], cmap=\"hot\")\n",
        "ax.plot(np.array(route)[:,1]-1,np.array(route)[:,0]-1, color = \"black\")"
      ],
      "metadata": {
        "id": "CqpwiXawNJny"
      },
      "execution_count": null,
      "outputs": []
    },
    {
      "cell_type": "code",
      "source": [
        "start_locs = tuple(zip(*np.where(border_map == ord('a'))))\n",
        "steps_required = []\n",
        "for start in start_locs:\n",
        "  came_from, cost_so_far = a_star_search(start, end)\n",
        "  if end in cost_so_far.keys():\n",
        "    steps_required.append(cost_so_far[end])\n",
        "\n",
        "print('Part 2: ', min(steps_required))"
      ],
      "metadata": {
        "id": "ZLr1fi6CbX1z"
      },
      "execution_count": null,
      "outputs": []
    }
  ]
}