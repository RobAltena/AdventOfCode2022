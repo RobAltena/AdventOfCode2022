{
  "nbformat": 4,
  "nbformat_minor": 0,
  "metadata": {
    "colab": {
      "private_outputs": true,
      "provenance": [],
      "authorship_tag": "ABX9TyOfiuNYcQaGQOZhIYeGOBrx",
      "include_colab_link": true
    },
    "kernelspec": {
      "name": "python3",
      "display_name": "Python 3"
    },
    "language_info": {
      "name": "python"
    }
  },
  "cells": [
    {
      "cell_type": "markdown",
      "metadata": {
        "id": "view-in-github",
        "colab_type": "text"
      },
      "source": [
        "<a href=\"https://colab.research.google.com/github/RobAltena/AdventOfCode2022/blob/main/Day6.ipynb\" target=\"_parent\"><img src=\"https://colab.research.google.com/assets/colab-badge.svg\" alt=\"Open In Colab\"/></a>"
      ]
    },
    {
      "cell_type": "code",
      "execution_count": null,
      "metadata": {
        "id": "LfzB5IvM5oWV"
      },
      "outputs": [],
      "source": [
        "import requests\n",
        "data = requests.get('https://raw.githubusercontent.com/RobAltena/AdventOfCode2022/main/advent_day6_input.txt').text\n",
        "\n",
        "def find_start_marker(i): \n",
        "  n = i\n",
        "  while (len(set(data[i-n:i])) < n ):\n",
        "    i +=1\n",
        "  return i \n",
        "\n",
        "print('Part 1: ', find_start_marker(4))\n",
        "print('Part 2: ', find_start_marker(14))"
      ]
    }
  ]
}